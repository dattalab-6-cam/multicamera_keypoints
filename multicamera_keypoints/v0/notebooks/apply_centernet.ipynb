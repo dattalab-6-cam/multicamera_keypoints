{
 "cells": [
  {
   "cell_type": "code",
   "execution_count": 1,
   "id": "immune-envelope",
   "metadata": {},
   "outputs": [],
   "source": [
    "import tqdm\n",
    "import numpy as np\n",
    "import h5py\n",
    "import os\n",
    "import sys\n",
    "import cv2\n",
    "from vidio.read import OpenCVReader\n",
    "import matplotlib.pyplot as plt\n",
    "\n",
    "import torch\n",
    "import torch.nn as nn\n",
    "import torch.nn.functional as F\n",
    "\n",
    "\n",
    "class ConvNet(nn.Module):\n",
    "    def __init__(self, initial_channels=32):\n",
    "        super(ConvNet, self).__init__()\n",
    "        \n",
    "        # First Convolutional Layer\n",
    "        self.conv1 = nn.Conv2d(1, initial_channels, kernel_size=3, stride=1, padding=1)\n",
    "        self.bn1 = nn.BatchNorm2d(initial_channels)\n",
    "        \n",
    "        # Second Convolutional Layer\n",
    "        self.conv2 = nn.Conv2d(initial_channels, initial_channels*2, kernel_size=3, stride=1, padding=1)\n",
    "        self.bn2 = nn.BatchNorm2d(initial_channels*2)\n",
    "        \n",
    "        # Third Convolutional Layer\n",
    "        self.conv3 = nn.Conv2d(initial_channels*2, initial_channels*4, kernel_size=3, stride=1, padding=1)\n",
    "        self.bn3 = nn.BatchNorm2d(initial_channels*4)\n",
    "        \n",
    "        # Fourth Convolutional Layer\n",
    "        self.conv4 = nn.Conv2d(initial_channels*4, initial_channels*4, kernel_size=3, stride=1, padding=1)\n",
    "        self.bn4 = nn.BatchNorm2d(initial_channels*4)\n",
    "        \n",
    "        # MaxPooling Layer\n",
    "        self.maxpool = nn.MaxPool2d(kernel_size=2, stride=2)\n",
    "        \n",
    "        # Final Convolutional Layer to generate 1-channel output\n",
    "        self.conv_final = nn.Conv2d(initial_channels*4, 1, kernel_size=1, stride=1)\n",
    "        \n",
    "    def forward(self, x):\n",
    "        # First Conv + ReLU + MaxPool\n",
    "        x = self.conv1(x)\n",
    "        x = self.bn1(x)\n",
    "        x = F.relu(x)\n",
    "        x = self.maxpool(x)\n",
    "        \n",
    "        # Second Conv + ReLU + MaxPool\n",
    "        x = self.conv2(x)\n",
    "        x = self.bn2(x)\n",
    "        x = F.relu(x)\n",
    "        x = self.maxpool(x)\n",
    "        \n",
    "        # Third Conv + ReLU + MaxPool\n",
    "        x = self.conv3(x)\n",
    "        x = self.bn3(x)\n",
    "        x = F.relu(x)\n",
    "        x = self.maxpool(x)\n",
    "        \n",
    "        # Fourth Conv + ReLU + MaxPool\n",
    "        x = self.conv4(x)\n",
    "        x = self.bn4(x)\n",
    "        x = F.relu(x)\n",
    "        x = self.maxpool(x)\n",
    "        \n",
    "        # Final Conv\n",
    "        x = self.conv_final(x)\n",
    "        x = F.sigmoid(x)\n",
    "        return x"
   ]
  },
  {
   "cell_type": "code",
   "execution_count": 2,
   "id": "polished-people",
   "metadata": {},
   "outputs": [
    {
     "name": "stderr",
     "output_type": "stream",
     "text": [
      "100%|██████████| 216000/216000 [35:37<00:00, 101.04it/s]\n"
     ]
    }
   ],
   "source": [
    "model = ConvNet(initial_channels=32)\n",
    "weights = torch.load('weights/centernet.pth')\n",
    "model.load_state_dict(weights)\n",
    "model = model.eval().to('cuda')\n",
    "\n",
    "vid_path = '/n/groups/datta/Jonah/kpms_reviews_6cam_thermistor/raw_data/J01704/20230822_J01704_b/bottom.24562650.avi'\n",
    "clahe = cv2.createCLAHE(clipLimit=2.0, tileGridSize=(32, 32))\n",
    "reader = OpenCVReader(vid_path)\n",
    "nframes = len(reader)\n",
    "\n",
    "uvs = []\n",
    "for i in tqdm.trange(nframes):\n",
    "    with torch.no_grad():\n",
    "        im = clahe.apply(reader[i][::2,::2,0])\n",
    "        x = im[None,None].astype(np.float32)/255\n",
    "        y = model(torch.Tensor(x).to('cuda')).detach().cpu().numpy()[0,0]\n",
    "        y = cv2.GaussianBlur(y, (7,7), 2)\n",
    "        uvs.append([np.argmax(y.max(0)), np.argmax(y.max(1))])\n",
    "uvs = np.array(uvs)*32\n",
    "np.save(vid_path.replace('.avi','.centroid.npy'), uvs)"
   ]
  },
  {
   "cell_type": "code",
   "execution_count": 7,
   "id": "absolute-updating",
   "metadata": {},
   "outputs": [
    {
     "name": "stdout",
     "output_type": "stream",
     "text": [
      "sbatch -p gpu_quad -t 18:00:00 --mem 6GB --gres=gpu:1 -c 2 --wrap  \"\"\"module load ffmpeg; module load gcc/9.2.0; module load cuda/11.7; python apply_centernet.py /n/groups/datta/Jonah/kpms_reviews_6cam_thermistor/raw_data/J01601/20230904_J01601/top.24562653.avi\"\"\"\n",
      "sbatch -p gpu_quad -t 18:00:00 --mem 6GB --gres=gpu:1 -c 2 --wrap  \"\"\"module load ffmpeg; module load gcc/9.2.0; module load cuda/11.7; python apply_centernet.py /n/groups/datta/Jonah/kpms_reviews_6cam_thermistor/raw_data/J01601/20230904_J01601/side4.24535665.avi\"\"\"\n",
      "sbatch -p gpu_quad -t 18:00:00 --mem 6GB --gres=gpu:1 -c 2 --wrap  \"\"\"module load ffmpeg; module load gcc/9.2.0; module load cuda/11.7; python apply_centernet.py /n/groups/datta/Jonah/kpms_reviews_6cam_thermistor/raw_data/J01601/20230904_J01601/side2.24535649.avi\"\"\"\n",
      "sbatch -p gpu_quad -t 18:00:00 --mem 6GB --gres=gpu:1 -c 2 --wrap  \"\"\"module load ffmpeg; module load gcc/9.2.0; module load cuda/11.7; python apply_centernet.py /n/groups/datta/Jonah/kpms_reviews_6cam_thermistor/raw_data/J01601/20230904_J01601/side3.24562655.avi\"\"\"\n",
      "sbatch -p gpu_quad -t 18:00:00 --mem 6GB --gres=gpu:1 -c 2 --wrap  \"\"\"module load ffmpeg; module load gcc/9.2.0; module load cuda/11.7; python apply_centernet.py /n/groups/datta/Jonah/kpms_reviews_6cam_thermistor/raw_data/J01601/20230904_J01601/side1.24548223.avi\"\"\"\n",
      "sbatch -p gpu_quad -t 18:00:00 --mem 6GB --gres=gpu:1 -c 2 --wrap  \"\"\"module load ffmpeg; module load gcc/9.2.0; module load cuda/11.7; python apply_centernet.py /n/groups/datta/Jonah/kpms_reviews_6cam_thermistor/raw_data/J01601/20230904_J01601/bottom.24562650.avi\"\"\"\n"
     ]
    }
   ],
   "source": [
    "import glob\n",
    "\n",
    "prefixes = [\n",
    "    '/n/groups/datta/Jonah/kpms_reviews_6cam_thermistor/raw_data/J01601/20230904_J01601'\n",
    "]\n",
    "\n",
    "cmd = 'sbatch -p gpu_quad -t 18:00:00 --mem 6GB --gres=gpu:1 -c 2 --wrap  \"\"\"module load ffmpeg; module load gcc/9.2.0; module load cuda/11.7; python apply_centernet.py {}\"\"\"'\n",
    "\n",
    "for prefix in prefixes:\n",
    "    for vid_path in glob.glob(prefix+'/*.avi'):\n",
    "        print(cmd.format(vid_path))"
   ]
  },
  {
   "cell_type": "code",
   "execution_count": null,
   "id": "spread-cause",
   "metadata": {},
   "outputs": [],
   "source": []
  }
 ],
 "metadata": {
  "kernelspec": {
   "display_name": "torch",
   "language": "python",
   "name": "torch"
  },
  "language_info": {
   "codemirror_mode": {
    "name": "ipython",
    "version": 3
   },
   "file_extension": ".py",
   "mimetype": "text/x-python",
   "name": "python",
   "nbconvert_exporter": "python",
   "pygments_lexer": "ipython3",
   "version": "3.9.16"
  }
 },
 "nbformat": 4,
 "nbformat_minor": 5
}
