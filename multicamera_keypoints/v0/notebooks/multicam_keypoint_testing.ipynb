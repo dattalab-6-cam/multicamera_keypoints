{
 "cells": [
  {
   "cell_type": "markdown",
   "id": "2653e26b",
   "metadata": {
    "toc": true
   },
   "source": [
    "<h1>Table of Contents<span class=\"tocSkip\"></span></h1>\n",
    "<div class=\"toc\"><ul class=\"toc-item\"><li><span><a href=\"#Run-a-dumb-little-test-function\" data-toc-modified-id=\"Run-a-dumb-little-test-function-1\">Run a dumb little test function</a></span></li><li><span><a href=\"#Run-a-custom-shell-script\" data-toc-modified-id=\"Run-a-custom-shell-script-2\">Run a custom shell script</a></span></li><li><span><a href=\"#Run-the-segmentation-step-of-the-pipeline\" data-toc-modified-id=\"Run-the-segmentation-step-of-the-pipeline-3\">Run the segmentation step of the pipeline</a></span></li></ul></div>"
   ]
  },
  {
   "cell_type": "code",
   "execution_count": 1,
   "id": "cb0c42d8",
   "metadata": {},
   "outputs": [],
   "source": [
    "# conda env: dataPy_torch"
   ]
  },
  {
   "cell_type": "code",
   "execution_count": 2,
   "id": "627270f4",
   "metadata": {},
   "outputs": [],
   "source": [
    "%load_ext autoreload\n",
    "%autoreload 2"
   ]
  },
  {
   "cell_type": "code",
   "execution_count": 3,
   "id": "4e270d0c",
   "metadata": {
    "scrolled": false
   },
   "outputs": [],
   "source": [
    "import multicamera_keypoints as mck"
   ]
  },
  {
   "cell_type": "code",
   "execution_count": 4,
   "id": "f291d133",
   "metadata": {
    "scrolled": true
   },
   "outputs": [
    {
     "data": {
      "text/plain": [
       "{'VID_INFO': {'bottom': {'nframes': 3600,\n",
       "   'video_path': '/n/groups/datta/Jonah/Local_code_groups/test_data/keypoint_testing/20230911_130000_J01703/20230911_130000_J01703.bottom.avi'},\n",
       "  'side1': {'nframes': 3600,\n",
       "   'video_path': '/n/groups/datta/Jonah/Local_code_groups/test_data/keypoint_testing/20230911_130000_J01703/20230911_130000_J01703.side1.avi'},\n",
       "  'side2': {'nframes': 3600,\n",
       "   'video_path': '/n/groups/datta/Jonah/Local_code_groups/test_data/keypoint_testing/20230911_130000_J01703/20230911_130000_J01703.side2.avi'},\n",
       "  'side3': {'nframes': 3600,\n",
       "   'video_path': '/n/groups/datta/Jonah/Local_code_groups/test_data/keypoint_testing/20230911_130000_J01703/20230911_130000_J01703.side3.avi'},\n",
       "  'side4': {'nframes': 3600,\n",
       "   'video_path': '/n/groups/datta/Jonah/Local_code_groups/test_data/keypoint_testing/20230911_130000_J01703/20230911_130000_J01703.side4.avi'},\n",
       "  'top': {'nframes': 3600,\n",
       "   'video_path': '/n/groups/datta/Jonah/Local_code_groups/test_data/keypoint_testing/20230911_130000_J01703/20230911_130000_J01703.top.avi'}},\n",
       " 'CENTERNET': {'func_args': {'video_path': '{video_path}',\n",
       "   'weights_path': '/n/groups/datta/Jonah/kpms_reviews_6cam_thermistor/20230928_avi_compression/train_hrnet-v2/weights/centernet.pth'},\n",
       "  'output_info': {'output_name': 'centroid'},\n",
       "  'slurm_params': {'gpu': True,\n",
       "   'mem': '4GB',\n",
       "   'ncpus': 2,\n",
       "   'sec_per_frame': 0.021},\n",
       "  'wrap_params': {'conda_env': 'dataPy_torch',\n",
       "   'func_path': '/n/groups/datta/Jonah/Local_code_groups/6cam_repos/multicamera_keypoints/multicamera_keypoints/v0/segmentation.py'}},\n",
       " 'DUMMY': {'func_args': {'video_path': '{video_path}'},\n",
       "  'output_info': {'output_name': 'dummy'},\n",
       "  'slurm_params': {'gpu': False,\n",
       "   'mem': '4GB',\n",
       "   'ncpus': 1,\n",
       "   'sec_per_frame': 0.001},\n",
       "  'wrap_params': {'conda_env': 'dataPy_NWB2',\n",
       "   'func_path': '/n/groups/datta/Jonah/Local_code_groups/6cam_repos/multicamera_keypoints/multicamera_keypoints/v0/dummy.py'}},\n",
       " 'OTHER': {'keypoint_colormap': 'autumn',\n",
       "  'verbose': False,\n",
       "  'video_dir': '/n/groups/datta/Jonah/Local_code_groups/test_data/keypoint_testing/20230911_130000_J01703'}}"
      ]
     },
     "execution_count": 4,
     "metadata": {},
     "output_type": "execute_result"
    }
   ],
   "source": [
    "path = '../test_data/keypoint_testing/20230911_130000_J01703/'\n",
    "mck.io.generate_config(path, overwrite=True)  # reads num frs per vid, etc.\n",
    "config = mck.io.load_config(path)\n",
    "config"
   ]
  },
  {
   "cell_type": "markdown",
   "id": "8010946d",
   "metadata": {},
   "source": [
    "### Run a dumb little test function"
   ]
  },
  {
   "cell_type": "code",
   "execution_count": 4,
   "id": "9d8c5335",
   "metadata": {},
   "outputs": [
    {
     "name": "stdout",
     "output_type": "stream",
     "text": [
      "Updated mem to 3GB\n",
      "\n"
     ]
    }
   ],
   "source": [
    "mck.io.update_config(path, {\"DUMMY\": {\"slurm_params\": {\"mem\": \"3GB\"}}})"
   ]
  },
  {
   "cell_type": "code",
   "execution_count": 5,
   "id": "6c7b44f6",
   "metadata": {
    "scrolled": true
   },
   "outputs": [
    {
     "name": "stdout",
     "output_type": "stream",
     "text": [
      "Batch script for step DUMMY ready at /n/groups/datta/Jonah/Local_code_groups/data/keypoint_testing/20230911_130000_J01703/keypoint_batch/DUMMY/DUMMY_batch_20231210_161831.sh\n"
     ]
    }
   ],
   "source": [
    "mck.batch.prepare_batch(path, processing_steps=[\"DUMMY\"])\n"
   ]
  },
  {
   "cell_type": "code",
   "execution_count": 6,
   "id": "fb68a85e",
   "metadata": {
    "scrolled": true
   },
   "outputs": [
    {
     "name": "stdout",
     "output_type": "stream",
     "text": [
      "Running script DUMMY_batch_20231210_161831.sh\n",
      "Submitted batch job 25472857\n",
      "Submitted batch job 25472858\n",
      "Submitted batch job 25472859\n",
      "Submitted batch job 25472860\n",
      "Submitted batch job 25472861\n",
      "Submitted batch job 25472864\n",
      "\n",
      "Updated jobs_in_progress to ['25472857', '25472858', '25472859',\n",
      "  '25472860', '25472861', '25472864']\n",
      "\n"
     ]
    }
   ],
   "source": [
    "mck.batch.run_batch(path, \"DUMMY\")"
   ]
  },
  {
   "cell_type": "code",
   "execution_count": 7,
   "id": "38940fda",
   "metadata": {
    "scrolled": false
   },
   "outputs": [
    {
     "name": "stdout",
     "output_type": "stream",
     "text": [
      "Cancelled 25472857\n",
      "Cancelled 25472858\n",
      "Cancelled 25472859\n",
      "Cancelled 25472860\n",
      "Cancelled 25472861\n",
      "Cancelled 25472864\n"
     ]
    }
   ],
   "source": [
    "mck.batch.cancel_batch(path, \"DUMMY\")"
   ]
  },
  {
   "cell_type": "code",
   "execution_count": 8,
   "id": "97fc8362",
   "metadata": {},
   "outputs": [],
   "source": [
    "# Should raise an error\n",
    "\n",
    "# mck.io.update_config(path, {\"DUMMY\": {\"wrap_params\": {\"conda_env\": \"non-existent-env\"}}})"
   ]
  },
  {
   "cell_type": "markdown",
   "id": "8cf2b216",
   "metadata": {},
   "source": [
    "### Run a custom shell script"
   ]
  },
  {
   "cell_type": "code",
   "execution_count": 9,
   "id": "c350090d",
   "metadata": {},
   "outputs": [
    {
     "name": "stdout",
     "output_type": "stream",
     "text": [
      "Running script test.sh\n",
      "Submitted batch job 25472865\n",
      "\n",
      "Updated ../data/keypoint_testing/20230911_130000_J01703/keypoint_batch\n",
      "  /CENTERNET/test.sh to {'slurm_params': {'jobs_in_progress':\n",
      "  ['25472865']}}\n",
      "\n"
     ]
    }
   ],
   "source": [
    "test_path = '../data/keypoint_testing/20230911_130000_J01703/keypoint_batch/CENTERNET/test.sh'\n",
    "mck.batch.run_batch(path, None, shell_script=test_path)"
   ]
  },
  {
   "cell_type": "code",
   "execution_count": 10,
   "id": "64935d07",
   "metadata": {},
   "outputs": [
    {
     "name": "stdout",
     "output_type": "stream",
     "text": [
      "Cancelled 25472865\n"
     ]
    }
   ],
   "source": [
    "mck.batch.cancel_batch(path, None, shell_script=test_path)"
   ]
  },
  {
   "cell_type": "markdown",
   "id": "4596b087",
   "metadata": {},
   "source": [
    "### Run the segmentation step of the pipeline"
   ]
  },
  {
   "cell_type": "code",
   "execution_count": 11,
   "id": "9804d355",
   "metadata": {},
   "outputs": [
    {
     "name": "stdout",
     "output_type": "stream",
     "text": [
      "Batch script for step CENTERNET ready at /n/groups/datta/Jonah/Local_code_groups/data/keypoint_testing/20230911_130000_J01703/keypoint_batch/CENTERNET/CENTERNET_batch_20231210_161839.sh\n",
      "Running script CENTERNET_batch_20231210_161839.sh\n"
     ]
    },
    {
     "name": "stderr",
     "output_type": "stream",
     "text": [
      "sbatch: Setting QOS to gpuquad_qos\n",
      "sbatch: Setting QOS to gpuquad_qos\n",
      "sbatch: Setting QOS to gpuquad_qos\n",
      "sbatch: Setting QOS to gpuquad_qos\n"
     ]
    },
    {
     "name": "stdout",
     "output_type": "stream",
     "text": [
      "Submitted batch job 25472877\n",
      "Submitted batch job 25472878\n",
      "Submitted batch job 25472879\n",
      "Submitted batch job 25472880\n",
      "Submitted batch job 25472881\n",
      "Submitted batch job 25472882\n",
      "\n",
      "Updated jobs_in_progress to ['25472877', '25472878', '25472879',\n",
      "  '25472880', '25472881', '25472882']\n",
      "\n"
     ]
    },
    {
     "name": "stderr",
     "output_type": "stream",
     "text": [
      "sbatch: Setting QOS to gpuquad_qos\n",
      "sbatch: Setting QOS to gpuquad_qos\n"
     ]
    }
   ],
   "source": [
    "mck.batch.prepare_batch(path, processing_steps=[\"CENTERNET\"])\n",
    "mck.batch.run_batch(path, \"CENTERNET\")\n"
   ]
  },
  {
   "cell_type": "code",
   "execution_count": 12,
   "id": "4c8745b8",
   "metadata": {},
   "outputs": [
    {
     "name": "stdout",
     "output_type": "stream",
     "text": [
      "Cancelled 25472877\n",
      "Cancelled 25472878\n",
      "Cancelled 25472879\n",
      "Cancelled 25472880\n",
      "Cancelled 25472881\n",
      "Cancelled 25472882\n"
     ]
    }
   ],
   "source": [
    "mck.batch.cancel_batch(path, \"CENTERNET\")\n"
   ]
  }
 ],
 "metadata": {
  "kernelspec": {
   "display_name": "Python 3 (ipykernel)",
   "language": "python",
   "name": "python3"
  },
  "language_info": {
   "codemirror_mode": {
    "name": "ipython",
    "version": 3
   },
   "file_extension": ".py",
   "mimetype": "text/x-python",
   "name": "python",
   "nbconvert_exporter": "python",
   "pygments_lexer": "ipython3",
   "version": "3.8.18"
  },
  "toc": {
   "base_numbering": 1,
   "nav_menu": {},
   "number_sections": false,
   "sideBar": true,
   "skip_h1_title": false,
   "title_cell": "Table of Contents",
   "title_sidebar": "Contents",
   "toc_cell": true,
   "toc_position": {},
   "toc_section_display": true,
   "toc_window_display": false
  }
 },
 "nbformat": 4,
 "nbformat_minor": 5
}
