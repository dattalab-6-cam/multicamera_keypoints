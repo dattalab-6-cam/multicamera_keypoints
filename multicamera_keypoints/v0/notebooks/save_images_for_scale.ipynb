{
 "cells": [
  {
   "cell_type": "code",
   "execution_count": 6,
   "id": "positive-latvia",
   "metadata": {},
   "outputs": [],
   "source": [
    "import os\n",
    "from os.path import join\n",
    "\n",
    "import cv2\n",
    "import imageio\n",
    "import matplotlib.pyplot as plt\n",
    "import numpy as np\n",
    "from o2_utils.selectors import find_files_from_pattern\n",
    "from tqdm.notebook import tqdm\n",
    "import videochef as vc"
   ]
  },
  {
   "cell_type": "code",
   "execution_count": 2,
   "id": "adf35cf2",
   "metadata": {},
   "outputs": [
    {
     "data": {
      "text/plain": [
       "['/n/groups/datta/Jonah/20240125_CoA_hM4Di_6cam/data/J04302/20240201_J04302/20240201_J04302.top.mp4',\n",
       " '/n/groups/datta/Jonah/20240125_CoA_hM4Di_6cam/data/J04302/20240201_J04302/20240201_J04302.side1.mp4',\n",
       " '/n/groups/datta/Jonah/20240125_CoA_hM4Di_6cam/data/J04302/20240201_J04302/20240201_J04302.side3.mp4',\n",
       " '/n/groups/datta/Jonah/20240125_CoA_hM4Di_6cam/data/J04302/20240201_J04302/20240201_J04302.side2.mp4',\n",
       " '/n/groups/datta/Jonah/20240125_CoA_hM4Di_6cam/data/J04302/20240201_J04302/20240201_J04302.side4.mp4']"
      ]
     },
     "execution_count": 2,
     "metadata": {},
     "output_type": "execute_result"
    }
   ],
   "source": [
    "base_path = '/n/groups/datta/Jonah/20240125_CoA_hM4Di_6cam/data/'\n",
    "save_loc = join(base_path, '../kp_detection/scale_annotation/images')\n",
    "n_frames = 30 * 60 * 120\n",
    "videos = find_files_from_pattern(base_path, 'J043*/20240201_J043*/*.mp4', error_behav=\"pass\", exclude_patterns=[\"azure\"])\n",
    "videos[:5]"
   ]
  },
  {
   "cell_type": "code",
   "execution_count": 3,
   "id": "013cb795",
   "metadata": {},
   "outputs": [],
   "source": [
    "videos = [videos[0]]"
   ]
  },
  {
   "cell_type": "code",
   "execution_count": 15,
   "id": "b6dc49d6",
   "metadata": {},
   "outputs": [
    {
     "name": "stdout",
     "output_type": "stream",
     "text": [
      "/n/groups/datta/Jonah/20240125_CoA_hM4Di_6cam/data/J04302/20240201_J04302/20240201_J04302.top.mp4\n",
      "Saving frames...\n"
     ]
    },
    {
     "data": {
      "application/vnd.jupyter.widget-view+json": {
       "model_id": "8b27f99be28546739fd360057da75da4",
       "version_major": 2,
       "version_minor": 0
      },
      "text/plain": [
       "  0%|          | 0/150 [00:00<?, ?it/s]"
      ]
     },
     "metadata": {},
     "output_type": "display_data"
    }
   ],
   "source": [
    "for vid in videos:\n",
    "\n",
    "    print(vid)\n",
    "\n",
    "    recording_name = os.path.basename(vid).split('.')[0]  # ie 20240201_J04301\n",
    "    save_dir = os.path.join(save_loc, recording_name)\n",
    "    os.makedirs(save_dir, exist_ok=True)\n",
    "\n",
    "    # Prep the hist eq\n",
    "    clahe = cv2.createCLAHE(clipLimit=2.0, tileGridSize=(32, 32))\n",
    "\n",
    "    # Choose which frames to annotate\n",
    "    frames = np.sort(np.random.choice(n_frames, 150, replace=False))\n",
    "    use_frames = frames[:75] if 'side' in vid else frames\n",
    "\n",
    "    # Prep the video reader\n",
    "    reader = imageio.get_reader(vid)\n",
    "    im_prefix = os.path.basename(vid).split('.mp4')[0]\n",
    "\n",
    "    # Save the frames\n",
    "    print(\"Saving frames...\")\n",
    "    # for i in tqdm(use_frames):\n",
    "    #     im_path = f'{im_prefix}.{i}.jpg'\n",
    "    #     im = reader.get_data(i)[:,:,0]\n",
    "    #     im = clahe.apply(im)\n",
    "    #     im = np.repeat(im[:,:,None],3,axis=2)\n",
    "    #     cv2.imwrite(im_path, im)\n",
    "\n",
    "    # Save the frames\n",
    "    with vc.io.VideoReader(vid, frame_ixs=use_frames) as reader:\n",
    "        for i, im in enumerate(tqdm(reader, total=len(use_frames))):\n",
    "            im_path = f'{im_prefix}.{use_frames[i]}.jpg'\n",
    "            im_gray = cv2.cvtColor(im, cv2.COLOR_BGR2GRAY)\n",
    "            im_gray_8bit = cv2.convertScaleAbs(im_gray)\n",
    "            im = clahe.apply(im_gray_8bit)\n",
    "            im = np.repeat(im[:, :, None], 3, axis=2)\n",
    "            cv2.imwrite(join(save_dir, im_path), im)\n",
    "\n"
   ]
  },
  {
   "cell_type": "code",
   "execution_count": 16,
   "id": "alpha-lancaster",
   "metadata": {},
   "outputs": [
    {
     "data": {
      "text/plain": [
       "['20240201_J04302']"
      ]
     },
     "execution_count": 16,
     "metadata": {},
     "output_type": "execute_result"
    }
   ],
   "source": [
    "os.listdir(save_loc)"
   ]
  }
 ],
 "metadata": {
  "kernelspec": {
   "display_name": "dataPy_torch",
   "language": "python",
   "name": "python3"
  },
  "language_info": {
   "codemirror_mode": {
    "name": "ipython",
    "version": 3
   },
   "file_extension": ".py",
   "mimetype": "text/x-python",
   "name": "python",
   "nbconvert_exporter": "python",
   "pygments_lexer": "ipython3",
   "version": "3.9.15"
  }
 },
 "nbformat": 4,
 "nbformat_minor": 5
}
