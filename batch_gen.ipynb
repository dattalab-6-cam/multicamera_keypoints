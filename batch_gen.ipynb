{
 "cells": [
  {
   "cell_type": "markdown",
   "id": "1e9b7d2f",
   "metadata": {
    "toc": true
   },
   "source": [
    "<h1>Table of Contents<span class=\"tocSkip\"></span></h1>\n",
    "<div class=\"toc\"><ul class=\"toc-item\"><li><span><a href=\"#center-detect\" data-toc-modified-id=\"center-detect-1\">center detect</a></span></li><li><span><a href=\"#hrnet\" data-toc-modified-id=\"hrnet-2\">hrnet</a></span><ul class=\"toc-item\"><li><span><a href=\"#Check-for-incomplete-h5-files-(will-need-to-be-re-run)\" data-toc-modified-id=\"Check-for-incomplete-h5-files-(will-need-to-be-re-run)-2.1\">Check for incomplete h5 files (will need to be re-run)</a></span></li></ul></li><li><span><a href=\"#triangulate\" data-toc-modified-id=\"triangulate-3\">triangulate</a></span></li><li><span><a href=\"#gimbal\" data-toc-modified-id=\"gimbal-4\">gimbal</a></span></li></ul></div>"
   ]
  },
  {
   "cell_type": "code",
   "execution_count": 1,
   "id": "innovative-portugal",
   "metadata": {},
   "outputs": [],
   "source": [
    "import glob, os\n",
    "from os.path import join, exists\n",
    "import numpy as np\n",
    "import h5py"
   ]
  },
  {
   "cell_type": "code",
   "execution_count": 2,
   "id": "structured-secondary",
   "metadata": {},
   "outputs": [],
   "source": [
    "good_sessions = [\n",
    "    \n",
    "    # J016 are older, may want to exclude from ultimate model\n",
    "    '20230904_J01601',\n",
    "    '20230905_J01601',\n",
    "    \n",
    "    '20230904_J01602',\n",
    "    '20230905_J01602',\n",
    "    \n",
    "    '20230904_J01701',\n",
    "    '20230905_J01701',\n",
    "    '20230911_J01701',\n",
    "    '20230912_J01701',\n",
    "    \n",
    "    '20230905_J01702',\n",
    "    '20230911_J01702',\n",
    "    '20230912_J01702',\n",
    "    \n",
    "    '20230904_J01703',\n",
    "    '20230908_J01703',\n",
    "    '20230911_J01703',\n",
    "    '20230912_J01703',\n",
    "]\n",
    "\n",
    "video_glob = \"*.avi\"\n",
    "# video_glob = \"*.COMPRESSED.mp4\"\n",
    "\n",
    "base_path = '/n/groups/datta/Jonah/20231121_6cam_sniff/kp_detection/'\n",
    "path_to_centernet = join(base_path, 'apply_centernet.py')\n",
    "path_to_hrnet = join(base_path, 'apply_hrnet.py')\n",
    "path_to_triangulate = join(base_path, 'apply_robust_triangulate.py')\n",
    "# path_to_gimbal = join(base_path, 'apply_gimbal.py')\n",
    "path_to_gimbal = join(base_path, 'og_apply_gimbal.py')\n",
    "slurm_out_path = join(base_path, \"slurm_outs/slurm-%j.out\")"
   ]
  },
  {
   "cell_type": "code",
   "execution_count": 3,
   "id": "b145eb5e",
   "metadata": {},
   "outputs": [],
   "source": [
    "prefixes = []\n",
    "for k in good_sessions:\n",
    "    mouse = k.split('_')[-1]\n",
    "    prefixes.append(f'/n/groups/datta/Jonah/kpms_reviews_6cam_thermistor/raw_data/{mouse}/{k}')\n"
   ]
  },
  {
   "cell_type": "markdown",
   "id": "atmospheric-issue",
   "metadata": {},
   "source": [
    "### center detect"
   ]
  },
  {
   "cell_type": "code",
   "execution_count": 4,
   "id": "heard-married",
   "metadata": {
    "scrolled": true
   },
   "outputs": [],
   "source": [
    "slurm_cmd = f'sbatch -p gpu_quad -t 1:15:00 --mem 4GB --gres=gpu:1 -c 2 -o {slurm_out_path} --wrap '  # for 30 min vids on CW rig, 1 hr usually enough.\n",
    "wrap_cmd = f'\\'eval \"$(conda shell.bash hook)\"; conda activate dataPy_torch; module load ffmpeg; module load gcc/9.2.0; python {path_to_centernet} {{}}\\''\n",
    "cmd = slurm_cmd + wrap_cmd\n",
    "overwrite = False\n",
    "for prefix in prefixes:\n",
    "    for vid_path in glob.glob(join(prefix, video_glob)):\n",
    "        if exists(vid_path.replace(\".avi\", \".centroid.npy\")) and not overwrite:\n",
    "            continue\n",
    "        print(cmd.format(vid_path))\n",
    "        print()"
   ]
  },
  {
   "cell_type": "markdown",
   "id": "played-mount",
   "metadata": {},
   "source": [
    "### hrnet"
   ]
  },
  {
   "cell_type": "code",
   "execution_count": 5,
   "id": "married-cheese",
   "metadata": {
    "scrolled": true
   },
   "outputs": [],
   "source": [
    "# ~4 hrs for a 30 min vid on CW rig\n",
    "# ~20% of jobs timed out at 4:30:00 around 90%...try 4.5*1.1 ~= 5:00:00.\n",
    "slurm_cmd = f'sbatch -p gpu_quad -t 5:15:00 --mem 4GB --gres=gpu:1 -c 2 -o {slurm_out_path} --wrap '\n",
    "wrap_cmd = f'\\'eval \"$(conda shell.bash hook)\"; conda activate dataPy_torch; module load ffmpeg; module load gcc/9.2.0; python {path_to_hrnet} {{}}\\''\n",
    "cmd = slurm_cmd + wrap_cmd\n",
    "overwrite = False\n",
    "for prefix in prefixes:\n",
    "    for vid_path in glob.glob(join(prefix, video_glob)):\n",
    "        putative_kp_path = vid_path.replace(\".avi\", \".keypoints.h5\")\n",
    "        if exists(putative_kp_path) and not overwrite:\n",
    "            try:\n",
    "                # Check we can open the h5 file -- sometimes if a job gets cut off, we'll need to re-run it\n",
    "                # (TODO: make h5 checkpoints so that if it fails one frame from the end, it doesn't have to be all re-run)\n",
    "                with h5py.File(putative_kp_path,'r') as h5:\n",
    "                    continue\n",
    "            except OSError:\n",
    "                pass\n",
    "        print(cmd.format(vid_path))"
   ]
  },
  {
   "cell_type": "markdown",
   "id": "f47e8a0b",
   "metadata": {},
   "source": [
    "#### Check for incomplete h5 files (will need to be re-run)"
   ]
  },
  {
   "cell_type": "code",
   "execution_count": 6,
   "id": "49a3b571",
   "metadata": {},
   "outputs": [],
   "source": [
    "import h5py\n",
    "bad_files = []\n",
    "vid_suffix = '.avi'  # avi or mp4\n",
    "for prefix in prefixes:\n",
    "    for vid_path in glob.glob(join(prefix, video_glob)):\n",
    "        comp_kp_path = vid_path.replace(vid_suffix, '.keypoints.h5')\n",
    "        try:\n",
    "            with h5py.File(comp_kp_path,'r') as h5:\n",
    "                pass\n",
    "        except OSError:\n",
    "            bad_files.append(comp_kp_path.replace('.keypoints.h5', vid_suffix))"
   ]
  },
  {
   "cell_type": "code",
   "execution_count": 7,
   "id": "fcee0543",
   "metadata": {},
   "outputs": [
    {
     "data": {
      "text/plain": [
       "0"
      ]
     },
     "execution_count": 7,
     "metadata": {},
     "output_type": "execute_result"
    }
   ],
   "source": [
    "len(bad_files)"
   ]
  },
  {
   "cell_type": "code",
   "execution_count": 8,
   "id": "43e403a0",
   "metadata": {},
   "outputs": [
    {
     "data": {
      "text/plain": [
       "[]"
      ]
     },
     "execution_count": 8,
     "metadata": {},
     "output_type": "execute_result"
    }
   ],
   "source": [
    "bad_files"
   ]
  },
  {
   "cell_type": "code",
   "execution_count": 9,
   "id": "da8a90da",
   "metadata": {
    "scrolled": true
   },
   "outputs": [],
   "source": [
    "for prefix in prefixes:\n",
    "    for vid_path in glob.glob(join(prefix, video_glob)):\n",
    "        if vid_path not in bad_files: continue\n",
    "        print(cmd.format(vid_path))"
   ]
  },
  {
   "cell_type": "code",
   "execution_count": null,
   "id": "48100e1d",
   "metadata": {},
   "outputs": [],
   "source": []
  },
  {
   "cell_type": "markdown",
   "id": "quarterly-liechtenstein",
   "metadata": {},
   "source": [
    "### triangulate"
   ]
  },
  {
   "cell_type": "code",
   "execution_count": 5,
   "id": "quick-bacon",
   "metadata": {},
   "outputs": [],
   "source": [
    "calib_mapping = {\n",
    "    '20230904_J01601':'20230904_calibration',\n",
    "    '20230905_J01601':'20230905_calibration',\n",
    "    \n",
    "    '20230904_J01602':'20230904_calibration',\n",
    "    '20230905_J01602':'20230905_calibration',\n",
    "    \n",
    "    '20230904_J01701':'20230904_calibration',\n",
    "    '20230905_J01701':'20230905_calibration',\n",
    "    '20230911_J01701':'20230911_calibration',\n",
    "    '20230912_J01701':'20230912_calibration',\n",
    "    \n",
    "    '20230905_J01702':'20230905_calibration',\n",
    "    '20230911_J01702':'20230911_calibration',\n",
    "    '20230912_J01702':'20230912_calibration',\n",
    "    \n",
    "    '20230904_J01703':'20230904_calibration',\n",
    "    '20230908_J01703':'20230908_calibration',\n",
    "    '20230911_J01703':'20230911_calibration',\n",
    "    '20230912_J01703':'20230912_calibration',\n",
    "    \n",
    "}"
   ]
  },
  {
   "cell_type": "code",
   "execution_count": 6,
   "id": "incoming-oakland",
   "metadata": {},
   "outputs": [],
   "source": [
    "\n",
    "# slurm_cmd = 'sbatch -p gpu_quad -t 1:00:00 --mem 6GB --gres=gpu:1 -c 2 --wrap '\n",
    "slurm_cmd = f'sbatch -p short -t 1:00:00 --mem 6GB -c 1 -o {slurm_out_path} --wrap '\n",
    "wrap_cmd = f'\\'eval \"$(conda shell.bash hook)\"; conda activate dataPy_NWB2; module load ffmpeg; module load gcc/9.2.0; python {path_to_triangulate} {{}} {{}}\\''\n",
    "cmd = slurm_cmd + wrap_cmd\n",
    "\n",
    "output_name = 'robust_triangulation.npy'\n",
    "overwrite = False\n",
    "\n",
    "for vid,calib in calib_mapping.items():\n",
    "    \n",
    "    calib_path = '/n/groups/datta/Jonah/kpms_reviews_6cam_thermistor/raw_data/calibration/data/'+calib+'/camera_params.h5'\n",
    "    mouse = vid.split('_')[-1]\n",
    "    vid_path = f'/n/groups/datta/Jonah/kpms_reviews_6cam_thermistor/raw_data/{mouse}/{vid}'\n",
    "    if not exists(calib_path):\n",
    "#         print(f'Could not find calib {calib_path}')\n",
    "        continue    \n",
    "    if os.path.exists(join(vid_path, output_name)) and not overwrite:\n",
    "        continue\n",
    "    print(cmd.format(vid_path, calib_path))\n",
    "    print()"
   ]
  },
  {
   "cell_type": "code",
   "execution_count": null,
   "id": "6a7dc376",
   "metadata": {},
   "outputs": [],
   "source": []
  },
  {
   "cell_type": "markdown",
   "id": "discrete-locator",
   "metadata": {},
   "source": [
    "### gimbal"
   ]
  },
  {
   "cell_type": "code",
   "execution_count": 8,
   "id": "vulnerable-anchor",
   "metadata": {},
   "outputs": [
    {
     "name": "stdout",
     "output_type": "stream",
     "text": [
      "exists\n",
      "exists\n",
      "exists\n",
      "exists\n",
      "exists\n",
      "exists\n",
      "exists\n",
      "exists\n",
      "exists\n",
      "exists\n",
      "exists\n",
      "exists\n",
      "exists\n",
      "exists\n",
      "exists\n"
     ]
    }
   ],
   "source": [
    "# about 5 hrs per 30 min video\n",
    "slurm_cmd = f'sbatch -p gpu_quad -t 5:30:00 --mem 8GB --gres=gpu:1 -c 1 -o {slurm_out_path} --wrap  '\n",
    "wrap_cmd = f'\\'eval \"$(conda shell.bash hook)\"; conda activate dataPy_gimbal; module load ffmpeg; module load gcc/9.2.0; module load cuda/11.7; python {path_to_gimbal} {{}} {{}}\\''\n",
    "cmd = slurm_cmd + wrap_cmd\n",
    "output_name = 'gimbal.npy'\n",
    "\n",
    "for vid,calib in calib_mapping.items():\n",
    "    calib_path = '/n/groups/datta/Jonah/kpms_reviews_6cam_thermistor/raw_data/calibration/data/'+calib+'/camera_params.h5'\n",
    "    mouse = vid.split('_')[-1]\n",
    "    vid_path = f'/n/groups/datta/Jonah/kpms_reviews_6cam_thermistor/raw_data/{mouse}/{vid}'\n",
    "    if os.path.exists(join(vid_path, output_name)) and not overwrite:\n",
    "        print(\"exists\")\n",
    "        continue\n",
    "    print(cmd.format(calib_path, vid_path))\n",
    "    print()"
   ]
  },
  {
   "cell_type": "code",
   "execution_count": null,
   "id": "demonstrated-blade",
   "metadata": {},
   "outputs": [],
   "source": []
  }
 ],
 "metadata": {
  "kernelspec": {
   "display_name": "Python 3 (ipykernel)",
   "language": "python",
   "name": "python3"
  },
  "language_info": {
   "codemirror_mode": {
    "name": "ipython",
    "version": 3
   },
   "file_extension": ".py",
   "mimetype": "text/x-python",
   "name": "python",
   "nbconvert_exporter": "python",
   "pygments_lexer": "ipython3",
   "version": "3.9.15"
  },
  "toc": {
   "base_numbering": 1,
   "nav_menu": {},
   "number_sections": false,
   "sideBar": true,
   "skip_h1_title": false,
   "title_cell": "Table of Contents",
   "title_sidebar": "Contents",
   "toc_cell": true,
   "toc_position": {},
   "toc_section_display": true,
   "toc_window_display": false
  }
 },
 "nbformat": 4,
 "nbformat_minor": 5
}
